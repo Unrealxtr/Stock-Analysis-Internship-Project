{
  "nbformat": 4,
  "nbformat_minor": 0,
  "metadata": {
    "colab": {
      "name": "stock eckovation.ipynb",
      "provenance": [],
      "collapsed_sections": []
    },
    "kernelspec": {
      "name": "python3",
      "display_name": "Python 3"
    },
    "accelerator": "TPU"
  },
  "cells": [
    {
      "cell_type": "code",
      "metadata": {
        "id": "78hRW1wmVZKS",
        "colab_type": "code",
        "colab": {}
      },
      "source": [
        "import pandas as pd\n",
        "import matplotlib.pyplot as plt\n",
        "import numpy as np"
      ],
      "execution_count": 0,
      "outputs": []
    },
    {
      "cell_type": "code",
      "metadata": {
        "id": "Z8Oh3BwdsSpG",
        "colab_type": "code",
        "colab": {}
      },
      "source": [
        "import tensorflow as tf"
      ],
      "execution_count": 0,
      "outputs": []
    },
    {
      "cell_type": "code",
      "metadata": {
        "id": "D8ZAhtNWsNgN",
        "colab_type": "code",
        "outputId": "7c7e36e7-0420-42d7-f1a1-7982518eaa23",
        "colab": {
          "base_uri": "https://localhost:8080/",
          "height": 758
        }
      },
      "source": [
        "try:\n",
        "    # TPU detection. No parameters necessary if TPU_NAME environment variable is\n",
        "    # set: this is always the case on Kaggle.\n",
        "    tpu = tf.distribute.cluster_resolver.TPUClusterResolver()\n",
        "    print('Running on TPU ', tpu.master())\n",
        "except ValueError:\n",
        "    tpu = None\n",
        "\n",
        "if tpu:\n",
        "    tf.config.experimental_connect_to_cluster(tpu)\n",
        "    tf.tpu.experimental.initialize_tpu_system(tpu)\n",
        "    strategy = tf.distribute.experimental.TPUStrategy(tpu)\n",
        "else:\n",
        "    # Default distribution strategy in Tensorflow. Works on CPU and single GPU.\n",
        "    strategy = tf.distribute.get_strategy()\n",
        "\n",
        "print(\"REPLICAS: \", strategy.num_replicas_in_sync)"
      ],
      "execution_count": 3,
      "outputs": [
        {
          "output_type": "stream",
          "text": [
            "Running on TPU  grpc://10.14.178.234:8470\n",
            "INFO:tensorflow:Initializing the TPU system: grpc://10.14.178.234:8470\n"
          ],
          "name": "stdout"
        },
        {
          "output_type": "stream",
          "text": [
            "INFO:tensorflow:Initializing the TPU system: grpc://10.14.178.234:8470\n"
          ],
          "name": "stderr"
        },
        {
          "output_type": "stream",
          "text": [
            "INFO:tensorflow:Clearing out eager caches\n"
          ],
          "name": "stdout"
        },
        {
          "output_type": "stream",
          "text": [
            "INFO:tensorflow:Clearing out eager caches\n"
          ],
          "name": "stderr"
        },
        {
          "output_type": "stream",
          "text": [
            "INFO:tensorflow:Finished initializing TPU system.\n"
          ],
          "name": "stdout"
        },
        {
          "output_type": "stream",
          "text": [
            "INFO:tensorflow:Finished initializing TPU system.\n"
          ],
          "name": "stderr"
        },
        {
          "output_type": "stream",
          "text": [
            "INFO:tensorflow:Found TPU system:\n"
          ],
          "name": "stdout"
        },
        {
          "output_type": "stream",
          "text": [
            "INFO:tensorflow:Found TPU system:\n"
          ],
          "name": "stderr"
        },
        {
          "output_type": "stream",
          "text": [
            "INFO:tensorflow:*** Num TPU Cores: 8\n"
          ],
          "name": "stdout"
        },
        {
          "output_type": "stream",
          "text": [
            "INFO:tensorflow:*** Num TPU Cores: 8\n"
          ],
          "name": "stderr"
        },
        {
          "output_type": "stream",
          "text": [
            "INFO:tensorflow:*** Num TPU Workers: 1\n"
          ],
          "name": "stdout"
        },
        {
          "output_type": "stream",
          "text": [
            "INFO:tensorflow:*** Num TPU Workers: 1\n"
          ],
          "name": "stderr"
        },
        {
          "output_type": "stream",
          "text": [
            "INFO:tensorflow:*** Num TPU Cores Per Worker: 8\n"
          ],
          "name": "stdout"
        },
        {
          "output_type": "stream",
          "text": [
            "INFO:tensorflow:*** Num TPU Cores Per Worker: 8\n"
          ],
          "name": "stderr"
        },
        {
          "output_type": "stream",
          "text": [
            "INFO:tensorflow:*** Available Device: _DeviceAttributes(/job:localhost/replica:0/task:0/device:CPU:0, CPU, 0, 0)\n"
          ],
          "name": "stdout"
        },
        {
          "output_type": "stream",
          "text": [
            "INFO:tensorflow:*** Available Device: _DeviceAttributes(/job:localhost/replica:0/task:0/device:CPU:0, CPU, 0, 0)\n"
          ],
          "name": "stderr"
        },
        {
          "output_type": "stream",
          "text": [
            "INFO:tensorflow:*** Available Device: _DeviceAttributes(/job:localhost/replica:0/task:0/device:XLA_CPU:0, XLA_CPU, 0, 0)\n"
          ],
          "name": "stdout"
        },
        {
          "output_type": "stream",
          "text": [
            "INFO:tensorflow:*** Available Device: _DeviceAttributes(/job:localhost/replica:0/task:0/device:XLA_CPU:0, XLA_CPU, 0, 0)\n"
          ],
          "name": "stderr"
        },
        {
          "output_type": "stream",
          "text": [
            "INFO:tensorflow:*** Available Device: _DeviceAttributes(/job:worker/replica:0/task:0/device:CPU:0, CPU, 0, 0)\n"
          ],
          "name": "stdout"
        },
        {
          "output_type": "stream",
          "text": [
            "INFO:tensorflow:*** Available Device: _DeviceAttributes(/job:worker/replica:0/task:0/device:CPU:0, CPU, 0, 0)\n"
          ],
          "name": "stderr"
        },
        {
          "output_type": "stream",
          "text": [
            "INFO:tensorflow:*** Available Device: _DeviceAttributes(/job:worker/replica:0/task:0/device:TPU:0, TPU, 0, 0)\n"
          ],
          "name": "stdout"
        },
        {
          "output_type": "stream",
          "text": [
            "INFO:tensorflow:*** Available Device: _DeviceAttributes(/job:worker/replica:0/task:0/device:TPU:0, TPU, 0, 0)\n"
          ],
          "name": "stderr"
        },
        {
          "output_type": "stream",
          "text": [
            "INFO:tensorflow:*** Available Device: _DeviceAttributes(/job:worker/replica:0/task:0/device:TPU:1, TPU, 0, 0)\n"
          ],
          "name": "stdout"
        },
        {
          "output_type": "stream",
          "text": [
            "INFO:tensorflow:*** Available Device: _DeviceAttributes(/job:worker/replica:0/task:0/device:TPU:1, TPU, 0, 0)\n"
          ],
          "name": "stderr"
        },
        {
          "output_type": "stream",
          "text": [
            "INFO:tensorflow:*** Available Device: _DeviceAttributes(/job:worker/replica:0/task:0/device:TPU:2, TPU, 0, 0)\n"
          ],
          "name": "stdout"
        },
        {
          "output_type": "stream",
          "text": [
            "INFO:tensorflow:*** Available Device: _DeviceAttributes(/job:worker/replica:0/task:0/device:TPU:2, TPU, 0, 0)\n"
          ],
          "name": "stderr"
        },
        {
          "output_type": "stream",
          "text": [
            "INFO:tensorflow:*** Available Device: _DeviceAttributes(/job:worker/replica:0/task:0/device:TPU:3, TPU, 0, 0)\n"
          ],
          "name": "stdout"
        },
        {
          "output_type": "stream",
          "text": [
            "INFO:tensorflow:*** Available Device: _DeviceAttributes(/job:worker/replica:0/task:0/device:TPU:3, TPU, 0, 0)\n"
          ],
          "name": "stderr"
        },
        {
          "output_type": "stream",
          "text": [
            "INFO:tensorflow:*** Available Device: _DeviceAttributes(/job:worker/replica:0/task:0/device:TPU:4, TPU, 0, 0)\n"
          ],
          "name": "stdout"
        },
        {
          "output_type": "stream",
          "text": [
            "INFO:tensorflow:*** Available Device: _DeviceAttributes(/job:worker/replica:0/task:0/device:TPU:4, TPU, 0, 0)\n"
          ],
          "name": "stderr"
        },
        {
          "output_type": "stream",
          "text": [
            "INFO:tensorflow:*** Available Device: _DeviceAttributes(/job:worker/replica:0/task:0/device:TPU:5, TPU, 0, 0)\n"
          ],
          "name": "stdout"
        },
        {
          "output_type": "stream",
          "text": [
            "INFO:tensorflow:*** Available Device: _DeviceAttributes(/job:worker/replica:0/task:0/device:TPU:5, TPU, 0, 0)\n"
          ],
          "name": "stderr"
        },
        {
          "output_type": "stream",
          "text": [
            "INFO:tensorflow:*** Available Device: _DeviceAttributes(/job:worker/replica:0/task:0/device:TPU:6, TPU, 0, 0)\n"
          ],
          "name": "stdout"
        },
        {
          "output_type": "stream",
          "text": [
            "INFO:tensorflow:*** Available Device: _DeviceAttributes(/job:worker/replica:0/task:0/device:TPU:6, TPU, 0, 0)\n"
          ],
          "name": "stderr"
        },
        {
          "output_type": "stream",
          "text": [
            "INFO:tensorflow:*** Available Device: _DeviceAttributes(/job:worker/replica:0/task:0/device:TPU:7, TPU, 0, 0)\n"
          ],
          "name": "stdout"
        },
        {
          "output_type": "stream",
          "text": [
            "INFO:tensorflow:*** Available Device: _DeviceAttributes(/job:worker/replica:0/task:0/device:TPU:7, TPU, 0, 0)\n"
          ],
          "name": "stderr"
        },
        {
          "output_type": "stream",
          "text": [
            "INFO:tensorflow:*** Available Device: _DeviceAttributes(/job:worker/replica:0/task:0/device:TPU_SYSTEM:0, TPU_SYSTEM, 0, 0)\n"
          ],
          "name": "stdout"
        },
        {
          "output_type": "stream",
          "text": [
            "INFO:tensorflow:*** Available Device: _DeviceAttributes(/job:worker/replica:0/task:0/device:TPU_SYSTEM:0, TPU_SYSTEM, 0, 0)\n"
          ],
          "name": "stderr"
        },
        {
          "output_type": "stream",
          "text": [
            "INFO:tensorflow:*** Available Device: _DeviceAttributes(/job:worker/replica:0/task:0/device:XLA_CPU:0, XLA_CPU, 0, 0)\n"
          ],
          "name": "stdout"
        },
        {
          "output_type": "stream",
          "text": [
            "INFO:tensorflow:*** Available Device: _DeviceAttributes(/job:worker/replica:0/task:0/device:XLA_CPU:0, XLA_CPU, 0, 0)\n"
          ],
          "name": "stderr"
        },
        {
          "output_type": "stream",
          "text": [
            "REPLICAS:  8\n"
          ],
          "name": "stdout"
        }
      ]
    },
    {
      "cell_type": "code",
      "metadata": {
        "id": "bQg_MllqVmLG",
        "colab_type": "code",
        "colab": {}
      },
      "source": [
        "data = pd.read_csv('/content/drive/My Drive/Colab Notebooks/Stock NSE internship/nse_data.csv')"
      ],
      "execution_count": 0,
      "outputs": []
    },
    {
      "cell_type": "code",
      "metadata": {
        "id": "BbTxh9I0Von3",
        "colab_type": "code",
        "outputId": "d6d17204-2213-4ad5-ec10-a264d9d05aa9",
        "colab": {
          "base_uri": "https://localhost:8080/",
          "height": 195
        }
      },
      "source": [
        "data.head()"
      ],
      "execution_count": 5,
      "outputs": [
        {
          "output_type": "execute_result",
          "data": {
            "text/html": [
              "<div>\n",
              "<style scoped>\n",
              "    .dataframe tbody tr th:only-of-type {\n",
              "        vertical-align: middle;\n",
              "    }\n",
              "\n",
              "    .dataframe tbody tr th {\n",
              "        vertical-align: top;\n",
              "    }\n",
              "\n",
              "    .dataframe thead th {\n",
              "        text-align: right;\n",
              "    }\n",
              "</style>\n",
              "<table border=\"1\" class=\"dataframe\">\n",
              "  <thead>\n",
              "    <tr style=\"text-align: right;\">\n",
              "      <th></th>\n",
              "      <th>SYMBOL</th>\n",
              "      <th>SERIES</th>\n",
              "      <th>OPEN</th>\n",
              "      <th>HIGH</th>\n",
              "      <th>LOW</th>\n",
              "      <th>CLOSE</th>\n",
              "      <th>LAST</th>\n",
              "      <th>PREVCLOSE</th>\n",
              "      <th>TOTTRDQTY</th>\n",
              "      <th>TOTTRDVAL</th>\n",
              "      <th>TIMESTAMP</th>\n",
              "      <th>TOTALTRADES</th>\n",
              "      <th>ISIN</th>\n",
              "    </tr>\n",
              "  </thead>\n",
              "  <tbody>\n",
              "    <tr>\n",
              "      <th>0</th>\n",
              "      <td>20MICRONS</td>\n",
              "      <td>EQ</td>\n",
              "      <td>37.80</td>\n",
              "      <td>37.80</td>\n",
              "      <td>36.15</td>\n",
              "      <td>36.85</td>\n",
              "      <td>37.40</td>\n",
              "      <td>37.05</td>\n",
              "      <td>27130</td>\n",
              "      <td>994657.90</td>\n",
              "      <td>2017-06-28</td>\n",
              "      <td>202</td>\n",
              "      <td>INE144J01027</td>\n",
              "    </tr>\n",
              "    <tr>\n",
              "      <th>1</th>\n",
              "      <td>3IINFOTECH</td>\n",
              "      <td>EQ</td>\n",
              "      <td>4.10</td>\n",
              "      <td>4.85</td>\n",
              "      <td>4.00</td>\n",
              "      <td>4.55</td>\n",
              "      <td>4.65</td>\n",
              "      <td>4.05</td>\n",
              "      <td>20157058</td>\n",
              "      <td>92148517.65</td>\n",
              "      <td>2017-06-28</td>\n",
              "      <td>7353</td>\n",
              "      <td>INE748C01020</td>\n",
              "    </tr>\n",
              "    <tr>\n",
              "      <th>2</th>\n",
              "      <td>3MINDIA</td>\n",
              "      <td>EQ</td>\n",
              "      <td>13425.15</td>\n",
              "      <td>13469.55</td>\n",
              "      <td>12920.00</td>\n",
              "      <td>13266.70</td>\n",
              "      <td>13300.00</td>\n",
              "      <td>13460.55</td>\n",
              "      <td>2290</td>\n",
              "      <td>30304923.35</td>\n",
              "      <td>2017-06-28</td>\n",
              "      <td>748</td>\n",
              "      <td>INE470A01017</td>\n",
              "    </tr>\n",
              "    <tr>\n",
              "      <th>3</th>\n",
              "      <td>63MOONS</td>\n",
              "      <td>EQ</td>\n",
              "      <td>61.00</td>\n",
              "      <td>61.90</td>\n",
              "      <td>60.35</td>\n",
              "      <td>61.00</td>\n",
              "      <td>61.10</td>\n",
              "      <td>60.65</td>\n",
              "      <td>27701</td>\n",
              "      <td>1689421.00</td>\n",
              "      <td>2017-06-28</td>\n",
              "      <td>437</td>\n",
              "      <td>INE111B01023</td>\n",
              "    </tr>\n",
              "    <tr>\n",
              "      <th>4</th>\n",
              "      <td>8KMILES</td>\n",
              "      <td>EQ</td>\n",
              "      <td>546.10</td>\n",
              "      <td>548.00</td>\n",
              "      <td>535.00</td>\n",
              "      <td>537.45</td>\n",
              "      <td>535.20</td>\n",
              "      <td>547.45</td>\n",
              "      <td>79722</td>\n",
              "      <td>43208620.05</td>\n",
              "      <td>2017-06-28</td>\n",
              "      <td>1866</td>\n",
              "      <td>INE650K01021</td>\n",
              "    </tr>\n",
              "  </tbody>\n",
              "</table>\n",
              "</div>"
            ],
            "text/plain": [
              "       SYMBOL SERIES      OPEN  ...   TIMESTAMP  TOTALTRADES          ISIN\n",
              "0   20MICRONS     EQ     37.80  ...  2017-06-28          202  INE144J01027\n",
              "1  3IINFOTECH     EQ      4.10  ...  2017-06-28         7353  INE748C01020\n",
              "2     3MINDIA     EQ  13425.15  ...  2017-06-28          748  INE470A01017\n",
              "3     63MOONS     EQ     61.00  ...  2017-06-28          437  INE111B01023\n",
              "4     8KMILES     EQ    546.10  ...  2017-06-28         1866  INE650K01021\n",
              "\n",
              "[5 rows x 13 columns]"
            ]
          },
          "metadata": {
            "tags": []
          },
          "execution_count": 5
        }
      ]
    },
    {
      "cell_type": "code",
      "metadata": {
        "id": "dM_ulSTTZX0A",
        "colab_type": "code",
        "outputId": "5940311d-89af-4815-fed0-ac292a1a1183",
        "colab": {
          "base_uri": "https://localhost:8080/",
          "height": 370
        }
      },
      "source": [
        "data.info()"
      ],
      "execution_count": 6,
      "outputs": [
        {
          "output_type": "stream",
          "text": [
            "<class 'pandas.core.frame.DataFrame'>\n",
            "RangeIndex: 846404 entries, 0 to 846403\n",
            "Data columns (total 13 columns):\n",
            " #   Column       Non-Null Count   Dtype  \n",
            "---  ------       --------------   -----  \n",
            " 0   SYMBOL       846404 non-null  object \n",
            " 1   SERIES       843947 non-null  object \n",
            " 2   OPEN         846404 non-null  float64\n",
            " 3   HIGH         846404 non-null  float64\n",
            " 4   LOW          846404 non-null  float64\n",
            " 5   CLOSE        846404 non-null  float64\n",
            " 6   LAST         846404 non-null  float64\n",
            " 7   PREVCLOSE    846404 non-null  float64\n",
            " 8   TOTTRDQTY    846404 non-null  int64  \n",
            " 9   TOTTRDVAL    846404 non-null  float64\n",
            " 10  TIMESTAMP    846404 non-null  object \n",
            " 11  TOTALTRADES  846404 non-null  int64  \n",
            " 12  ISIN         846404 non-null  object \n",
            "dtypes: float64(7), int64(2), object(4)\n",
            "memory usage: 83.9+ MB\n"
          ],
          "name": "stdout"
        }
      ]
    },
    {
      "cell_type": "code",
      "metadata": {
        "id": "FiBzkdiAgoaN",
        "colab_type": "code",
        "outputId": "780a2514-5faa-458f-ed53-9c2086515836",
        "colab": {
          "base_uri": "https://localhost:8080/",
          "height": 264
        }
      },
      "source": [
        "data.isnull().sum()"
      ],
      "execution_count": 7,
      "outputs": [
        {
          "output_type": "execute_result",
          "data": {
            "text/plain": [
              "SYMBOL            0\n",
              "SERIES         2457\n",
              "OPEN              0\n",
              "HIGH              0\n",
              "LOW               0\n",
              "CLOSE             0\n",
              "LAST              0\n",
              "PREVCLOSE         0\n",
              "TOTTRDQTY         0\n",
              "TOTTRDVAL         0\n",
              "TIMESTAMP         0\n",
              "TOTALTRADES       0\n",
              "ISIN              0\n",
              "dtype: int64"
            ]
          },
          "metadata": {
            "tags": []
          },
          "execution_count": 7
        }
      ]
    },
    {
      "cell_type": "code",
      "metadata": {
        "id": "0_Bjg4sVV7Fd",
        "colab_type": "code",
        "outputId": "9e6a24e5-0dce-497e-bf2d-39904d203ac8",
        "colab": {
          "base_uri": "https://localhost:8080/",
          "height": 34
        }
      },
      "source": [
        "data.TIMESTAMP[0][5:7]"
      ],
      "execution_count": 8,
      "outputs": [
        {
          "output_type": "execute_result",
          "data": {
            "text/plain": [
              "'06'"
            ]
          },
          "metadata": {
            "tags": []
          },
          "execution_count": 8
        }
      ]
    },
    {
      "cell_type": "code",
      "metadata": {
        "id": "71t43l4MWCyO",
        "colab_type": "code",
        "colab": {}
      },
      "source": [
        "s1=slice(4)\n",
        "data['YEAR']= data.TIMESTAMP.apply(lambda X: X[s1])"
      ],
      "execution_count": 0,
      "outputs": []
    },
    {
      "cell_type": "code",
      "metadata": {
        "id": "kTM0tZWx5YHA",
        "colab_type": "code",
        "colab": {}
      },
      "source": [
        "s2=slice(5,7)\n",
        "data['MONTH'] = data.TIMESTAMP.apply(lambda X: X[s2])"
      ],
      "execution_count": 0,
      "outputs": []
    },
    {
      "cell_type": "code",
      "metadata": {
        "id": "RcONWABv5reT",
        "colab_type": "code",
        "outputId": "6835f5dd-76b4-483a-ee19-d71d6a618b22",
        "colab": {
          "base_uri": "https://localhost:8080/",
          "height": 246
        }
      },
      "source": [
        "data.MONTH.value_counts(ascending=False)"
      ],
      "execution_count": 11,
      "outputs": [
        {
          "output_type": "execute_result",
          "data": {
            "text/plain": [
              "11    75288\n",
              "05    74520\n",
              "08    73788\n",
              "12    73484\n",
              "06    72868\n",
              "09    70899\n",
              "03    70885\n",
              "07    70585\n",
              "01    68374\n",
              "10    68142\n",
              "02    66529\n",
              "04    61042\n",
              "Name: MONTH, dtype: int64"
            ]
          },
          "metadata": {
            "tags": []
          },
          "execution_count": 11
        }
      ]
    },
    {
      "cell_type": "code",
      "metadata": {
        "id": "gmOkVbuGYHvG",
        "colab_type": "code",
        "outputId": "97381543-eb8b-44a5-a420-40afc5bcce1e",
        "colab": {
          "base_uri": "https://localhost:8080/",
          "height": 70
        }
      },
      "source": [
        "data.YEAR.value_counts()"
      ],
      "execution_count": 12,
      "outputs": [
        {
          "output_type": "execute_result",
          "data": {
            "text/plain": [
              "2017    437241\n",
              "2016    409163\n",
              "Name: YEAR, dtype: int64"
            ]
          },
          "metadata": {
            "tags": []
          },
          "execution_count": 12
        }
      ]
    },
    {
      "cell_type": "code",
      "metadata": {
        "id": "CiVabfjNcqBP",
        "colab_type": "code",
        "outputId": "b5df5f0e-2c2c-4f43-fd37-d91b3cda5f52",
        "colab": {
          "base_uri": "https://localhost:8080/",
          "height": 314
        }
      },
      "source": [
        "corr_matrix=data.corr()\n",
        "corr_matrix"
      ],
      "execution_count": 13,
      "outputs": [
        {
          "output_type": "execute_result",
          "data": {
            "text/html": [
              "<div>\n",
              "<style scoped>\n",
              "    .dataframe tbody tr th:only-of-type {\n",
              "        vertical-align: middle;\n",
              "    }\n",
              "\n",
              "    .dataframe tbody tr th {\n",
              "        vertical-align: top;\n",
              "    }\n",
              "\n",
              "    .dataframe thead th {\n",
              "        text-align: right;\n",
              "    }\n",
              "</style>\n",
              "<table border=\"1\" class=\"dataframe\">\n",
              "  <thead>\n",
              "    <tr style=\"text-align: right;\">\n",
              "      <th></th>\n",
              "      <th>OPEN</th>\n",
              "      <th>HIGH</th>\n",
              "      <th>LOW</th>\n",
              "      <th>CLOSE</th>\n",
              "      <th>LAST</th>\n",
              "      <th>PREVCLOSE</th>\n",
              "      <th>TOTTRDQTY</th>\n",
              "      <th>TOTTRDVAL</th>\n",
              "      <th>TOTALTRADES</th>\n",
              "    </tr>\n",
              "  </thead>\n",
              "  <tbody>\n",
              "    <tr>\n",
              "      <th>OPEN</th>\n",
              "      <td>1.000000</td>\n",
              "      <td>0.999887</td>\n",
              "      <td>0.999906</td>\n",
              "      <td>0.999836</td>\n",
              "      <td>0.999743</td>\n",
              "      <td>0.999164</td>\n",
              "      <td>-0.031836</td>\n",
              "      <td>0.060235</td>\n",
              "      <td>0.022101</td>\n",
              "    </tr>\n",
              "    <tr>\n",
              "      <th>HIGH</th>\n",
              "      <td>0.999887</td>\n",
              "      <td>1.000000</td>\n",
              "      <td>0.999818</td>\n",
              "      <td>0.999917</td>\n",
              "      <td>0.999830</td>\n",
              "      <td>0.999111</td>\n",
              "      <td>-0.031754</td>\n",
              "      <td>0.060912</td>\n",
              "      <td>0.022765</td>\n",
              "    </tr>\n",
              "    <tr>\n",
              "      <th>LOW</th>\n",
              "      <td>0.999906</td>\n",
              "      <td>0.999818</td>\n",
              "      <td>1.000000</td>\n",
              "      <td>0.999902</td>\n",
              "      <td>0.999808</td>\n",
              "      <td>0.999081</td>\n",
              "      <td>-0.031861</td>\n",
              "      <td>0.059863</td>\n",
              "      <td>0.021678</td>\n",
              "    </tr>\n",
              "    <tr>\n",
              "      <th>CLOSE</th>\n",
              "      <td>0.999836</td>\n",
              "      <td>0.999917</td>\n",
              "      <td>0.999902</td>\n",
              "      <td>1.000000</td>\n",
              "      <td>0.999912</td>\n",
              "      <td>0.999061</td>\n",
              "      <td>-0.031768</td>\n",
              "      <td>0.060530</td>\n",
              "      <td>0.022334</td>\n",
              "    </tr>\n",
              "    <tr>\n",
              "      <th>LAST</th>\n",
              "      <td>0.999743</td>\n",
              "      <td>0.999830</td>\n",
              "      <td>0.999808</td>\n",
              "      <td>0.999912</td>\n",
              "      <td>1.000000</td>\n",
              "      <td>0.998969</td>\n",
              "      <td>-0.031744</td>\n",
              "      <td>0.060451</td>\n",
              "      <td>0.022429</td>\n",
              "    </tr>\n",
              "    <tr>\n",
              "      <th>PREVCLOSE</th>\n",
              "      <td>0.999164</td>\n",
              "      <td>0.999111</td>\n",
              "      <td>0.999081</td>\n",
              "      <td>0.999061</td>\n",
              "      <td>0.998969</td>\n",
              "      <td>1.000000</td>\n",
              "      <td>-0.031874</td>\n",
              "      <td>0.060044</td>\n",
              "      <td>0.022086</td>\n",
              "    </tr>\n",
              "    <tr>\n",
              "      <th>TOTTRDQTY</th>\n",
              "      <td>-0.031836</td>\n",
              "      <td>-0.031754</td>\n",
              "      <td>-0.031861</td>\n",
              "      <td>-0.031768</td>\n",
              "      <td>-0.031744</td>\n",
              "      <td>-0.031874</td>\n",
              "      <td>1.000000</td>\n",
              "      <td>0.447041</td>\n",
              "      <td>0.475124</td>\n",
              "    </tr>\n",
              "    <tr>\n",
              "      <th>TOTTRDVAL</th>\n",
              "      <td>0.060235</td>\n",
              "      <td>0.060912</td>\n",
              "      <td>0.059863</td>\n",
              "      <td>0.060530</td>\n",
              "      <td>0.060451</td>\n",
              "      <td>0.060044</td>\n",
              "      <td>0.447041</td>\n",
              "      <td>1.000000</td>\n",
              "      <td>0.856671</td>\n",
              "    </tr>\n",
              "    <tr>\n",
              "      <th>TOTALTRADES</th>\n",
              "      <td>0.022101</td>\n",
              "      <td>0.022765</td>\n",
              "      <td>0.021678</td>\n",
              "      <td>0.022334</td>\n",
              "      <td>0.022429</td>\n",
              "      <td>0.022086</td>\n",
              "      <td>0.475124</td>\n",
              "      <td>0.856671</td>\n",
              "      <td>1.000000</td>\n",
              "    </tr>\n",
              "  </tbody>\n",
              "</table>\n",
              "</div>"
            ],
            "text/plain": [
              "                 OPEN      HIGH       LOW  ...  TOTTRDQTY  TOTTRDVAL  TOTALTRADES\n",
              "OPEN         1.000000  0.999887  0.999906  ...  -0.031836   0.060235     0.022101\n",
              "HIGH         0.999887  1.000000  0.999818  ...  -0.031754   0.060912     0.022765\n",
              "LOW          0.999906  0.999818  1.000000  ...  -0.031861   0.059863     0.021678\n",
              "CLOSE        0.999836  0.999917  0.999902  ...  -0.031768   0.060530     0.022334\n",
              "LAST         0.999743  0.999830  0.999808  ...  -0.031744   0.060451     0.022429\n",
              "PREVCLOSE    0.999164  0.999111  0.999081  ...  -0.031874   0.060044     0.022086\n",
              "TOTTRDQTY   -0.031836 -0.031754 -0.031861  ...   1.000000   0.447041     0.475124\n",
              "TOTTRDVAL    0.060235  0.060912  0.059863  ...   0.447041   1.000000     0.856671\n",
              "TOTALTRADES  0.022101  0.022765  0.021678  ...   0.475124   0.856671     1.000000\n",
              "\n",
              "[9 rows x 9 columns]"
            ]
          },
          "metadata": {
            "tags": []
          },
          "execution_count": 13
        }
      ]
    },
    {
      "cell_type": "code",
      "metadata": {
        "id": "4xQwQTDCabQV",
        "colab_type": "code",
        "outputId": "3d8e6ea9-581b-4d01-8e64-ca50492f297c",
        "colab": {
          "base_uri": "https://localhost:8080/",
          "height": 284
        }
      },
      "source": [
        "corr_matrix.describe()"
      ],
      "execution_count": 14,
      "outputs": [
        {
          "output_type": "execute_result",
          "data": {
            "text/html": [
              "<div>\n",
              "<style scoped>\n",
              "    .dataframe tbody tr th:only-of-type {\n",
              "        vertical-align: middle;\n",
              "    }\n",
              "\n",
              "    .dataframe tbody tr th {\n",
              "        vertical-align: top;\n",
              "    }\n",
              "\n",
              "    .dataframe thead th {\n",
              "        text-align: right;\n",
              "    }\n",
              "</style>\n",
              "<table border=\"1\" class=\"dataframe\">\n",
              "  <thead>\n",
              "    <tr style=\"text-align: right;\">\n",
              "      <th></th>\n",
              "      <th>OPEN</th>\n",
              "      <th>HIGH</th>\n",
              "      <th>LOW</th>\n",
              "      <th>CLOSE</th>\n",
              "      <th>LAST</th>\n",
              "      <th>PREVCLOSE</th>\n",
              "      <th>TOTTRDQTY</th>\n",
              "      <th>TOTTRDVAL</th>\n",
              "      <th>TOTALTRADES</th>\n",
              "    </tr>\n",
              "  </thead>\n",
              "  <tbody>\n",
              "    <tr>\n",
              "      <th>count</th>\n",
              "      <td>9.000000</td>\n",
              "      <td>9.000000</td>\n",
              "      <td>9.000000</td>\n",
              "      <td>9.000000</td>\n",
              "      <td>9.000000</td>\n",
              "      <td>9.000000</td>\n",
              "      <td>9.000000</td>\n",
              "      <td>9.000000</td>\n",
              "      <td>9.000000</td>\n",
              "    </tr>\n",
              "    <tr>\n",
              "      <th>mean</th>\n",
              "      <td>0.672115</td>\n",
              "      <td>0.672276</td>\n",
              "      <td>0.672022</td>\n",
              "      <td>0.672192</td>\n",
              "      <td>0.672155</td>\n",
              "      <td>0.671738</td>\n",
              "      <td>0.192370</td>\n",
              "      <td>0.296194</td>\n",
              "      <td>0.273910</td>\n",
              "    </tr>\n",
              "    <tr>\n",
              "      <th>std</th>\n",
              "      <td>0.492005</td>\n",
              "      <td>0.491778</td>\n",
              "      <td>0.492136</td>\n",
              "      <td>0.491917</td>\n",
              "      <td>0.491878</td>\n",
              "      <td>0.491782</td>\n",
              "      <td>0.370574</td>\n",
              "      <td>0.381772</td>\n",
              "      <td>0.401148</td>\n",
              "    </tr>\n",
              "    <tr>\n",
              "      <th>min</th>\n",
              "      <td>-0.031836</td>\n",
              "      <td>-0.031754</td>\n",
              "      <td>-0.031861</td>\n",
              "      <td>-0.031768</td>\n",
              "      <td>-0.031744</td>\n",
              "      <td>-0.031874</td>\n",
              "      <td>-0.031874</td>\n",
              "      <td>0.059863</td>\n",
              "      <td>0.021678</td>\n",
              "    </tr>\n",
              "    <tr>\n",
              "      <th>25%</th>\n",
              "      <td>0.060235</td>\n",
              "      <td>0.060912</td>\n",
              "      <td>0.059863</td>\n",
              "      <td>0.060530</td>\n",
              "      <td>0.060451</td>\n",
              "      <td>0.060044</td>\n",
              "      <td>-0.031836</td>\n",
              "      <td>0.060235</td>\n",
              "      <td>0.022101</td>\n",
              "    </tr>\n",
              "    <tr>\n",
              "      <th>50%</th>\n",
              "      <td>0.999743</td>\n",
              "      <td>0.999818</td>\n",
              "      <td>0.999808</td>\n",
              "      <td>0.999836</td>\n",
              "      <td>0.999743</td>\n",
              "      <td>0.999061</td>\n",
              "      <td>-0.031754</td>\n",
              "      <td>0.060530</td>\n",
              "      <td>0.022429</td>\n",
              "    </tr>\n",
              "    <tr>\n",
              "      <th>75%</th>\n",
              "      <td>0.999887</td>\n",
              "      <td>0.999887</td>\n",
              "      <td>0.999902</td>\n",
              "      <td>0.999912</td>\n",
              "      <td>0.999830</td>\n",
              "      <td>0.999111</td>\n",
              "      <td>0.447041</td>\n",
              "      <td>0.447041</td>\n",
              "      <td>0.475124</td>\n",
              "    </tr>\n",
              "    <tr>\n",
              "      <th>max</th>\n",
              "      <td>1.000000</td>\n",
              "      <td>1.000000</td>\n",
              "      <td>1.000000</td>\n",
              "      <td>1.000000</td>\n",
              "      <td>1.000000</td>\n",
              "      <td>1.000000</td>\n",
              "      <td>1.000000</td>\n",
              "      <td>1.000000</td>\n",
              "      <td>1.000000</td>\n",
              "    </tr>\n",
              "  </tbody>\n",
              "</table>\n",
              "</div>"
            ],
            "text/plain": [
              "           OPEN      HIGH       LOW  ...  TOTTRDQTY  TOTTRDVAL  TOTALTRADES\n",
              "count  9.000000  9.000000  9.000000  ...   9.000000   9.000000     9.000000\n",
              "mean   0.672115  0.672276  0.672022  ...   0.192370   0.296194     0.273910\n",
              "std    0.492005  0.491778  0.492136  ...   0.370574   0.381772     0.401148\n",
              "min   -0.031836 -0.031754 -0.031861  ...  -0.031874   0.059863     0.021678\n",
              "25%    0.060235  0.060912  0.059863  ...  -0.031836   0.060235     0.022101\n",
              "50%    0.999743  0.999818  0.999808  ...  -0.031754   0.060530     0.022429\n",
              "75%    0.999887  0.999887  0.999902  ...   0.447041   0.447041     0.475124\n",
              "max    1.000000  1.000000  1.000000  ...   1.000000   1.000000     1.000000\n",
              "\n",
              "[8 rows x 9 columns]"
            ]
          },
          "metadata": {
            "tags": []
          },
          "execution_count": 14
        }
      ]
    },
    {
      "cell_type": "code",
      "metadata": {
        "id": "BLjOFIXKYMZ_",
        "colab_type": "code",
        "outputId": "aa84f24e-23fa-4451-8909-ae293a4daa86",
        "colab": {
          "base_uri": "https://localhost:8080/",
          "height": 193
        }
      },
      "source": [
        "corr_matrix['CLOSE'].sort_values(ascending=False)"
      ],
      "execution_count": 15,
      "outputs": [
        {
          "output_type": "execute_result",
          "data": {
            "text/plain": [
              "CLOSE          1.000000\n",
              "HIGH           0.999917\n",
              "LAST           0.999912\n",
              "LOW            0.999902\n",
              "OPEN           0.999836\n",
              "PREVCLOSE      0.999061\n",
              "TOTTRDVAL      0.060530\n",
              "TOTALTRADES    0.022334\n",
              "TOTTRDQTY     -0.031768\n",
              "Name: CLOSE, dtype: float64"
            ]
          },
          "metadata": {
            "tags": []
          },
          "execution_count": 15
        }
      ]
    },
    {
      "cell_type": "code",
      "metadata": {
        "id": "IurnI35Gfygw",
        "colab_type": "code",
        "colab": {}
      },
      "source": [
        "year_2016 = ['2016']\n",
        "data_train = data[data.YEAR.isin(year_2016)]"
      ],
      "execution_count": 0,
      "outputs": []
    },
    {
      "cell_type": "code",
      "metadata": {
        "id": "YIUSHW83gipL",
        "colab_type": "code",
        "colab": {}
      },
      "source": [
        "year_2017 = ['2017']\n",
        "data_test = data[data.YEAR.isin(year_2017)]"
      ],
      "execution_count": 0,
      "outputs": []
    },
    {
      "cell_type": "code",
      "metadata": {
        "id": "p7ESLl0eg651",
        "colab_type": "code",
        "colab": {}
      },
      "source": [
        "X_train = data_train.drop('CLOSE',axis=1)\n",
        "y_train = data_train.CLOSE"
      ],
      "execution_count": 0,
      "outputs": []
    },
    {
      "cell_type": "code",
      "metadata": {
        "id": "w1FoVUrIhUIY",
        "colab_type": "code",
        "colab": {}
      },
      "source": [
        "X_test = data_test.drop('CLOSE',axis=1)\n",
        "y_test = data_test.CLOSE"
      ],
      "execution_count": 0,
      "outputs": []
    },
    {
      "cell_type": "code",
      "metadata": {
        "id": "us9OK3KurMyf",
        "colab_type": "code",
        "colab": {}
      },
      "source": [
        "X_train.drop(['SYMBOL','SERIES','TIMESTAMP','ISIN'],axis=1,inplace=True)"
      ],
      "execution_count": 0,
      "outputs": []
    },
    {
      "cell_type": "code",
      "metadata": {
        "id": "dYCOB9SytwsM",
        "colab_type": "code",
        "colab": {}
      },
      "source": [
        "X_test.drop(['SYMBOL','SERIES','TIMESTAMP','ISIN'],axis=1,inplace=True)"
      ],
      "execution_count": 0,
      "outputs": []
    },
    {
      "cell_type": "code",
      "metadata": {
        "id": "5OMXbeWNx5gd",
        "colab_type": "code",
        "colab": {}
      },
      "source": [
        "X_train_1 = X_train.to_numpy()\n",
        "X_test_1 = X_test.to_numpy()\n",
        "y_train_1 = y_train.to_numpy()\n",
        "y_test_1 = y_test.to_numpy()"
      ],
      "execution_count": 0,
      "outputs": []
    },
    {
      "cell_type": "code",
      "metadata": {
        "id": "rz7PoECpzFAo",
        "colab_type": "code",
        "outputId": "85a38cc6-0bda-4973-a2ca-b33cb49c06f7",
        "colab": {
          "base_uri": "https://localhost:8080/",
          "height": 140
        }
      },
      "source": [
        "X_train_1"
      ],
      "execution_count": 23,
      "outputs": [
        {
          "output_type": "execute_result",
          "data": {
            "text/plain": [
              "array([[33.9, 35.0, 32.25, ..., 253, '2016', '04'],\n",
              "       [4.4, 4.45, 4.3, ..., 360, '2016', '04'],\n",
              "       [13939.7, 14200.0, 13324.0, ..., 722, '2016', '04'],\n",
              "       ...,\n",
              "       [95.3, 97.4, 94.25, ..., 37, '2016', '09'],\n",
              "       [900.0, 910.0, 886.05, ..., 795, '2016', '09'],\n",
              "       [2.9, 3.05, 2.9, ..., 66, '2016', '09']], dtype=object)"
            ]
          },
          "metadata": {
            "tags": []
          },
          "execution_count": 23
        }
      ]
    },
    {
      "cell_type": "code",
      "metadata": {
        "id": "gCcoXX46uh8l",
        "colab_type": "code",
        "colab": {}
      },
      "source": [
        "from sklearn.linear_model import LinearRegression"
      ],
      "execution_count": 0,
      "outputs": []
    },
    {
      "cell_type": "code",
      "metadata": {
        "id": "kkBDH07O1uBS",
        "colab_type": "code",
        "outputId": "3c86e4dc-fb65-4d2f-b3b6-2b44a91e281a",
        "colab": {
          "base_uri": "https://localhost:8080/",
          "height": 34
        }
      },
      "source": [
        "model=LinearRegression()\n",
        "model.fit(X_train_1,y_train_1)"
      ],
      "execution_count": 25,
      "outputs": [
        {
          "output_type": "execute_result",
          "data": {
            "text/plain": [
              "LinearRegression(copy_X=True, fit_intercept=True, n_jobs=None, normalize=False)"
            ]
          },
          "metadata": {
            "tags": []
          },
          "execution_count": 25
        }
      ]
    },
    {
      "cell_type": "code",
      "metadata": {
        "id": "lfAvazaTu6It",
        "colab_type": "code",
        "colab": {}
      },
      "source": [
        "y_pred = model.predict(X_test_1)"
      ],
      "execution_count": 0,
      "outputs": []
    },
    {
      "cell_type": "code",
      "metadata": {
        "id": "ShaEXlc-ybjh",
        "colab_type": "code",
        "outputId": "1c8944a2-bf9a-4fa6-8157-e5c05320107b",
        "colab": {
          "base_uri": "https://localhost:8080/",
          "height": 34
        }
      },
      "source": [
        "y_pred[0]"
      ],
      "execution_count": 27,
      "outputs": [
        {
          "output_type": "execute_result",
          "data": {
            "text/plain": [
              "36.71034298899318"
            ]
          },
          "metadata": {
            "tags": []
          },
          "execution_count": 27
        }
      ]
    },
    {
      "cell_type": "code",
      "metadata": {
        "id": "FfubBi3LycxE",
        "colab_type": "code",
        "outputId": "193ecb66-1814-4e96-b8c8-c023d20afc30",
        "colab": {
          "base_uri": "https://localhost:8080/",
          "height": 34
        }
      },
      "source": [
        "y_test[0]"
      ],
      "execution_count": 28,
      "outputs": [
        {
          "output_type": "execute_result",
          "data": {
            "text/plain": [
              "36.85"
            ]
          },
          "metadata": {
            "tags": []
          },
          "execution_count": 28
        }
      ]
    },
    {
      "cell_type": "code",
      "metadata": {
        "id": "2KahkZGDzat3",
        "colab_type": "code",
        "outputId": "adf04162-e4f3-4c3b-c145-f8859bafa9b9",
        "colab": {
          "base_uri": "https://localhost:8080/",
          "height": 34
        }
      },
      "source": [
        "score= model.score(X_test_1,y_test_1)\n",
        "score"
      ],
      "execution_count": 29,
      "outputs": [
        {
          "output_type": "execute_result",
          "data": {
            "text/plain": [
              "0.9999618279613472"
            ]
          },
          "metadata": {
            "tags": []
          },
          "execution_count": 29
        }
      ]
    },
    {
      "cell_type": "code",
      "metadata": {
        "id": "mYFgPZGczmJH",
        "colab_type": "code",
        "outputId": "a572986f-5947-4d10-9d78-f3e3380dbf8f",
        "colab": {
          "base_uri": "https://localhost:8080/",
          "height": 34
        }
      },
      "source": [
        "model.score(X_train_1,y_train_1)"
      ],
      "execution_count": 30,
      "outputs": [
        {
          "output_type": "execute_result",
          "data": {
            "text/plain": [
              "0.9999451092379198"
            ]
          },
          "metadata": {
            "tags": []
          },
          "execution_count": 30
        }
      ]
    },
    {
      "cell_type": "code",
      "metadata": {
        "id": "iHPO7zsk0wmC",
        "colab_type": "code",
        "outputId": "b2cf56dd-fb3f-44ab-ab46-88fa2f20460a",
        "colab": {
          "base_uri": "https://localhost:8080/",
          "height": 517
        }
      },
      "source": [
        "data_train.CLOSE.plot(figsize=(10,8))\n",
        "data_test.CLOSE.plot()\n",
        "plt.title('CLOSE data for 2016 and 2017')"
      ],
      "execution_count": 76,
      "outputs": [
        {
          "output_type": "execute_result",
          "data": {
            "text/plain": [
              "Text(0.5, 1.0, 'CLOSE data for 2016 and 2017')"
            ]
          },
          "metadata": {
            "tags": []
          },
          "execution_count": 76
        },
        {
          "output_type": "display_data",
          "data": {
            "image/png": "[encoded data removed]",
            "text/plain": [
              "<Figure size 720x576 with 1 Axes>"
            ]
          },
          "metadata": {
            "tags": [],
            "needs_background": "light"
          }
        }
      ]
    },
    {
      "cell_type": "code",
      "metadata": {
        "id": "yVjkdM7S08xN",
        "colab_type": "code",
        "outputId": "4d8ba6eb-b26d-42ee-cde1-1027f3f05c82",
        "colab": {
          "base_uri": "https://localhost:8080/",
          "height": 313
        }
      },
      "source": [
        "plt.plot(X_train.MONTH,y_train)\n",
        "plt.title('2016 Data')\n",
        "plt.xlabel('Month in 2016')\n",
        "plt.ylabel('CLOSING value')\n",
        "plt.plot(figsize=(12,8))"
      ],
      "execution_count": 79,
      "outputs": [
        {
          "output_type": "execute_result",
          "data": {
            "text/plain": [
              "[]"
            ]
          },
          "metadata": {
            "tags": []
          },
          "execution_count": 79
        },
        {
          "output_type": "display_data",
          "data": {
            "image/png": "[encoded data removed]",
            "text/plain": [
              "<Figure size 432x288 with 1 Axes>"
            ]
          },
          "metadata": {
            "tags": [],
            "needs_background": "light"
          }
        }
      ]
    },
    {
      "cell_type": "code",
      "metadata": {
        "id": "yc2cQzVKqap_",
        "colab_type": "code",
        "colab": {}
      },
      "source": [
        "dicts = {'Predicted_CLOSE':y_pred}"
      ],
      "execution_count": 0,
      "outputs": []
    },
    {
      "cell_type": "code",
      "metadata": {
        "id": "ngVFowO6wfJQ",
        "colab_type": "code",
        "colab": {
          "base_uri": "https://localhost:8080/",
          "height": 282
        },
        "outputId": "6ed31087-efb3-4375-ef30-9bad0023ca9e"
      },
      "source": [
        "plt.plot(X_test.MONTH,dicts['Predicted_CLOSE'])"
      ],
      "execution_count": 105,
      "outputs": [
        {
          "output_type": "execute_result",
          "data": {
            "text/plain": [
              "[<matplotlib.lines.Line2D at 0x7efdcb31c4e0>]"
            ]
          },
          "metadata": {
            "tags": []
          },
          "execution_count": 105
        },
        {
          "output_type": "display_data",
          "data": {
            "image/png": "[encoded data removed]",
            "text/plain": [
              "<Figure size 432x288 with 1 Axes>"
            ]
          },
          "metadata": {
            "tags": [],
            "needs_background": "light"
          }
        }
      ]
    },
    {
      "cell_type": "code",
      "metadata": {
        "id": "RDWrt6uOx5EW",
        "colab_type": "code",
        "colab": {
          "base_uri": "https://localhost:8080/",
          "height": 282
        },
        "outputId": "2836819f-f3c0-4363-e68a-25fa2560a2f0"
      },
      "source": [
        "plt.plot(X_test.MONTH,y_test)\n",
        "plt.plot(X_test.MONTH,dicts['Predicted_CLOSE'])"
      ],
      "execution_count": 109,
      "outputs": [
        {
          "output_type": "execute_result",
          "data": {
            "text/plain": [
              "[<matplotlib.lines.Line2D at 0x7efdcb12b898>]"
            ]
          },
          "metadata": {
            "tags": []
          },
          "execution_count": 109
        },
        {
          "output_type": "display_data",
          "data": {
            "image/png": "[encoded data removed]",
            "text/plain": [
              "<Figure size 432x288 with 1 Axes>"
            ]
          },
          "metadata": {
            "tags": [],
            "needs_background": "light"
          }
        }
      ]
    },
    {
      "cell_type": "code",
      "metadata": {
        "id": "EWKfVpqqxYgP",
        "colab_type": "code",
        "colab": {
          "base_uri": "https://localhost:8080/",
          "height": 313
        },
        "outputId": "de8af39d-9431-4251-e8b1-7bf616e7f2ca"
      },
      "source": [
        "plt.scatter(X_test.MONTH,y_pred)\n",
        "plt.xlabel('Month in 2017')\n",
        "plt.ylabel('CLOSE value')\n",
        "plt.title('Close value in 2017')\n",
        "plt.plot()"
      ],
      "execution_count": 117,
      "outputs": [
        {
          "output_type": "execute_result",
          "data": {
            "text/plain": [
              "[]"
            ]
          },
          "metadata": {
            "tags": []
          },
          "execution_count": 117
        },
        {
          "output_type": "display_data",
          "data": {
            "image/png": "[encoded data removed]",
            "text/plain": [
              "<Figure size 432x288 with 1 Axes>"
            ]
          },
          "metadata": {
            "tags": [],
            "needs_background": "light"
          }
        }
      ]
    },
    {
      "cell_type": "code",
      "metadata": {
        "id": "BHUP5J_4yhc5",
        "colab_type": "code",
        "colab": {
          "base_uri": "https://localhost:8080/",
          "height": 313
        },
        "outputId": "7d462c79-7253-4f66-cf05-6d07ed604c0c"
      },
      "source": [
        "plt.scatter(X_train.MONTH,y_train)\n",
        "plt.xlabel('Month in 2016')\n",
        "plt.ylabel('CLOSE value')\n",
        "plt.title('Close value in 2016')\n",
        "plt.plot()"
      ],
      "execution_count": 118,
      "outputs": [
        {
          "output_type": "execute_result",
          "data": {
            "text/plain": [
              "[]"
            ]
          },
          "metadata": {
            "tags": []
          },
          "execution_count": 118
        },
        {
          "output_type": "display_data",
          "data": {
            "image/png": "[encoded data removed]",
            "text/plain": [
              "<Figure size 432x288 with 1 Axes>"
            ]
          },
          "metadata": {
            "tags": [],
            "needs_background": "light"
          }
        }
      ]
    },
    {
      "cell_type": "code",
      "metadata": {
        "id": "cpkYYsfR0toi",
        "colab_type": "code",
        "colab": {}
      },
      "source": [
        "list_months = [1,2,3,4,5,6,7,8,9,10,11,12]"
      ],
      "execution_count": 0,
      "outputs": []
    },
    {
      "cell_type": "code",
      "metadata": {
        "id": "5_5kMK6Mz-AM",
        "colab_type": "code",
        "colab": {
          "base_uri": "https://localhost:8080/",
          "height": 531
        },
        "outputId": "a7bde028-cbd3-43b2-aaee-c438ac2e945a"
      },
      "source": [
        "plt.figure(figsize=(10,8))\n",
        "plt.scatter(X_train.MONTH,y_train,c='r',label='Close 2016')\n",
        "plt.scatter(X_test.MONTH,y_pred,label='Predicted close 2017')\n",
        "plt.xticks(ticks=list_months)\n",
        "plt.xlabel('Months')\n",
        "plt.ylabel('CLOSE')\n",
        "plt.legend(loc='upper center')\n",
        "plt.title('CLOSE value in 2016 and 2017')"
      ],
      "execution_count": 145,
      "outputs": [
        {
          "output_type": "execute_result",
          "data": {
            "text/plain": [
              "Text(0.5, 1.0, 'CLOSE value in 2016 and 2017')"
            ]
          },
          "metadata": {
            "tags": []
          },
          "execution_count": 145
        },
        {
          "output_type": "display_data",
          "data": {
            "image/png": "[encoded data removed]",
            "text/plain": [
              "<Figure size 720x576 with 1 Axes>"
            ]
          },
          "metadata": {
            "tags": [],
            "needs_background": "light"
          }
        }
      ]
    },
    {
      "cell_type": "code",
      "metadata": {
        "id": "SyJn0rlH0_Zz",
        "colab_type": "code",
        "colab": {}
      },
      "source": [
        ""
      ],
      "execution_count": 0,
      "outputs": []
    }
  ]
}